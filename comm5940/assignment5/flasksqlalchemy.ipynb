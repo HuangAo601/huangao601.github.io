{
 "cells": [
  {
   "cell_type": "code",
   "execution_count": 2,
   "metadata": {},
   "outputs": [],
   "source": [
    "from product_model import *"
   ]
  },
  {
   "cell_type": "code",
   "execution_count": 2,
   "metadata": {
    "scrolled": true
   },
   "outputs": [
    {
     "name": "stdout",
     "output_type": "stream",
     "text": [
      "(1, 'DFS', 'Chinachem Plaza, 77 Mody Road, Tsim Sha Tsui, Kowloon, Yau Tsim Mong District, Hong Kong Special Administrative Region', '0085223113813', 2, 4, 3, 'https://dl.airtable.com/.attachmentThumbnails/05e0eeb255da0a7ce26a242429136282/bf86682c')\n",
      "(2, 'Lane Crawford', '3 Canton Road, Tsim Sha Tsui, Kowloon, Yau Tsim Mong District, Hong Kong Special Administrative Region', '0085221182288', 2, 2, 4, 'https://dl.airtable.com/.attachmentThumbnails/9e02bdbcc1c0bf9276f17cf5e4e2d3b1/9af17848')\n",
      "(3, 'Sasa', '3 Canton Road, Tsim Sha Tsui, Kowloon, Yau Tsim Mong District, Hong Kong Special Administrative Region', '0085221182288', 4, 3, 4, 'https://dl.airtable.com/.attachmentThumbnails/2f7d44dc8a249991cb7ee16a5a88a7ac/0eb633e3')\n",
      "(4, 'Bonjour', 'G / F, 25,27 Quick Street, Mong Kok, and 154,156 Sai Yeung Choi Street South, Yau Tsim Mong District, Hong Kong Special Administrative Region', '0085225760198', 3, 4, 3, 'https://dl.airtable.com/.attachmentThumbnails/614518c7024e3316aed77cfa1e22bc01/f68cba44')\n",
      "(5, 'Mannings', 'Shops 4-5 and 11 on the ground floor of Nandu Building, 168-178 Tai Po Road, Shek Kip Mei, Sham Shui Po District, Hong Kong Special Administrative Region', '0085222993381', 3, 4, 4, 'https://dl.airtable.com/.attachmentThumbnails/33df4cc3b6cefe0b38973f4867078e6c/d3161db3')\n",
      "(6, 'Watsons', 'Shop 569-573, 2 / F, Tai Po Super City, 9 On Pong Road, Tai Po District, Hong Kong Special Administrative Region', '0085226088383', 3, 4, 3, 'https://dl.airtable.com/.attachmentThumbnails/325988d6f10008fdef98cbd3843b20a4/d9075d8a')\n",
      "(7, 'Aster', 'F19 Wong Tai Sin Centre, Wong Tai Sin District, Hong Kong Special Administrative Region', '0085223261662', 5, 3, 4, 'https://dl.airtable.com/.attachmentThumbnails/53ed37771534ae55d04ccf2624db6763/4fb93305')\n",
      "(8, 'Anna', None, None, None, None, None, None)\n"
     ]
    }
   ],
   "source": [
    "result = db.engine.execute('select * from stores')\n",
    "for i in result:\n",
    "    print(i)"
   ]
  },
  {
   "cell_type": "code",
   "execution_count": 3,
   "metadata": {},
   "outputs": [
    {
     "name": "stdout",
     "output_type": "stream",
     "text": [
      "[{'storeID': 1, 'name': 'DFS', 'place': 'Chinachem Plaza, 77 Mody Road, Tsim Sha Tsui, Kowloon, Yau Tsim Mong District, Hong Kong Special Administrative Region', 'tel': '0085223113813', 'cheapness': 2, 'richness': 4, 'review': 3, 'url': 'https://dl.airtable.com/.attachmentThumbnails/05e0eeb255da0a7ce26a242429136282/bf86682c'}, {'storeID': 2, 'name': 'Lane Crawford', 'place': '3 Canton Road, Tsim Sha Tsui, Kowloon, Yau Tsim Mong District, Hong Kong Special Administrative Region', 'tel': '0085221182288', 'cheapness': 2, 'richness': 2, 'review': 4, 'url': 'https://dl.airtable.com/.attachmentThumbnails/9e02bdbcc1c0bf9276f17cf5e4e2d3b1/9af17848'}, {'storeID': 3, 'name': 'Sasa', 'place': '3 Canton Road, Tsim Sha Tsui, Kowloon, Yau Tsim Mong District, Hong Kong Special Administrative Region', 'tel': '0085221182288', 'cheapness': 4, 'richness': 3, 'review': 4, 'url': 'https://dl.airtable.com/.attachmentThumbnails/2f7d44dc8a249991cb7ee16a5a88a7ac/0eb633e3'}, {'storeID': 4, 'name': 'Bonjour', 'place': 'G / F, 25,27 Quick Street, Mong Kok, and 154,156 Sai Yeung Choi Street South, Yau Tsim Mong District, Hong Kong Special Administrative Region', 'tel': '0085225760198', 'cheapness': 3, 'richness': 4, 'review': 3, 'url': 'https://dl.airtable.com/.attachmentThumbnails/614518c7024e3316aed77cfa1e22bc01/f68cba44'}, {'storeID': 5, 'name': 'Mannings', 'place': 'Shops 4-5 and 11 on the ground floor of Nandu Building, 168-178 Tai Po Road, Shek Kip Mei, Sham Shui Po District, Hong Kong Special Administrative Region', 'tel': '0085222993381', 'cheapness': 3, 'richness': 4, 'review': 4, 'url': 'https://dl.airtable.com/.attachmentThumbnails/33df4cc3b6cefe0b38973f4867078e6c/d3161db3'}, {'storeID': 6, 'name': 'Watsons', 'place': 'Shop 569-573, 2 / F, Tai Po Super City, 9 On Pong Road, Tai Po District, Hong Kong Special Administrative Region', 'tel': '0085226088383', 'cheapness': 3, 'richness': 4, 'review': 3, 'url': 'https://dl.airtable.com/.attachmentThumbnails/325988d6f10008fdef98cbd3843b20a4/d9075d8a'}, {'storeID': 7, 'name': 'Aster', 'place': 'F19 Wong Tai Sin Centre, Wong Tai Sin District, Hong Kong Special Administrative Region', 'tel': '0085223261662', 'cheapness': 5, 'richness': 3, 'review': 4, 'url': 'https://dl.airtable.com/.attachmentThumbnails/53ed37771534ae55d04ccf2624db6763/4fb93305'}, {'storeID': 8, 'name': 'Anna', 'place': None, 'tel': None, 'cheapness': None, 'richness': None, 'review': None, 'url': None}]\n"
     ]
    }
   ],
   "source": [
    "result = db.engine.execute('select * from stores')\n",
    "final_result = [list(i) for i in result]\n",
    "dataset=[]\n",
    "dict={}\n",
    "for i in final_result:\n",
    "    dict['storeID'] = i[0]\n",
    "    dict['name'] = i[1]\n",
    "    dict['place'] = i[2]\n",
    "    dict['tel'] = i[3]\n",
    "    dict['cheapness'] = i[4]\n",
    "    dict['richness'] = i[5]\n",
    "    dict['review'] = i[6]\n",
    "    dict['url'] = i[7]\n",
    "    # print(i)\n",
    "    # print(dict)\n",
    "    dataset.append(dict.copy()) #markers.append(fld.copy())\n",
    "print(dataset)"
   ]
  },
  {
   "cell_type": "code",
   "execution_count": 4,
   "metadata": {},
   "outputs": [],
   "source": [
    "# Update Example\n",
    "pid = 8 \n",
    "stores = Stores.query.filter_by(storeID=pid).first()\n",
    "stores.name = \"ABC\"\n",
    "db.session.commit()"
   ]
  },
  {
   "cell_type": "code",
   "execution_count": 4,
   "metadata": {},
   "outputs": [],
   "source": [
    "# Insert Example\n",
    "store = Stores(name='TEST')\n",
    "db.session.add(store)\n",
    "db.session.commit()"
   ]
  },
  {
   "cell_type": "code",
   "execution_count": 5,
   "metadata": {},
   "outputs": [],
   "source": [
    "# Delete Example\n",
    "pid = 10\n",
    "store = Stores.query.filter_by(storeID=pid).first()\n",
    "db.session.delete(store)\n",
    "db.session.commit()"
   ]
  },
  {
   "cell_type": "code",
   "execution_count": null,
   "metadata": {},
   "outputs": [],
   "source": []
  }
 ],
 "metadata": {
  "kernelspec": {
   "display_name": "Python 3",
   "language": "python",
   "name": "python3"
  },
  "language_info": {
   "codemirror_mode": {
    "name": "ipython",
    "version": 3
   },
   "file_extension": ".py",
   "mimetype": "text/x-python",
   "name": "python",
   "nbconvert_exporter": "python",
   "pygments_lexer": "ipython3",
   "version": "3.7.4"
  }
 },
 "nbformat": 4,
 "nbformat_minor": 2
}
