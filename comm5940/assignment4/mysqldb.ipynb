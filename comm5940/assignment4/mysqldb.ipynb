{
 "cells": [
  {
   "cell_type": "code",
   "execution_count": null,
   "metadata": {},
   "outputs": [
    {
     "name": "stderr",
     "output_type": "stream",
     "text": [
      " * Running on http://localhost:9029/ (Press CTRL+C to quit)\n",
      "127.0.0.1 - - [06/Mar/2020 12:30:59] \"GET / HTTP/1.1\" 200 -\n"
     ]
    }
   ],
   "source": [
    "from flask import Flask, render_template, jsonify\n",
    "# import pymysql.cursors #initialise PyMysql module\n",
    "import MySQLdb\n",
    "\n",
    "app = Flask(__name__)\n",
    "# CORS(app)\n",
    "\n",
    "# connection = pymysql.connect(host=\"localhost\", \n",
    "connection = MySQLdb.connect(host=\"localhost\",\n",
    "                     user=\"root\",   \n",
    "                     passwd=\"1155136999\", \n",
    "                     db=\"southwind\",   \n",
    "                     charset='utf8mb4')      \n",
    "                     # cursorclass=pymysql.cursors.DictCursor)\n",
    "\n",
    "@app.route(\"/\")\n",
    "def home():\n",
    "    user = {\"name\":\"Anna\"}\n",
    "    with connection.cursor() as cursor:\n",
    "        sql = \"SELECT * FROM store\"\n",
    "        cursor.execute(sql)\n",
    "        # Display results\n",
    "        result = cursor.fetchall()\n",
    "    connection.close()\n",
    "    # print(result)\n",
    "    # print('\\n')\n",
    "    final_result = [list(i) for i in result]\n",
    "    dataset=[]\n",
    "    dict={}\n",
    "    for i in final_result:\n",
    "        dict['Name'] = i[0]\n",
    "        dict['Place'] = i[1]\n",
    "        dict['Tel'] = i[2]\n",
    "        dict['Cheapness'] = i[3]\n",
    "        dict['Richness'] = i[4]\n",
    "        dict['Review'] = i[5]\n",
    "        dict['url'] = i[6]\n",
    "        # print(i)\n",
    "        # print(dict)\n",
    "        dataset.append(dict.copy()) #markers.append(fld.copy())\n",
    "    \n",
    "    return render_template('index_mysqldb.html',album_user=user, dataset=dataset)\n",
    "\n",
    "if __name__ == '__main__':\n",
    "    from werkzeug.serving import run_simple\n",
    "    run_simple('localhost', 9029, app)"
   ]
  },
  {
   "cell_type": "code",
   "execution_count": null,
   "metadata": {},
   "outputs": [],
   "source": []
  }
 ],
 "metadata": {
  "kernelspec": {
   "display_name": "Python 3",
   "language": "python",
   "name": "python3"
  },
  "language_info": {
   "codemirror_mode": {
    "name": "ipython",
    "version": 3
   },
   "file_extension": ".py",
   "mimetype": "text/x-python",
   "name": "python",
   "nbconvert_exporter": "python",
   "pygments_lexer": "ipython3",
   "version": "3.7.4"
  }
 },
 "nbformat": 4,
 "nbformat_minor": 2
}
