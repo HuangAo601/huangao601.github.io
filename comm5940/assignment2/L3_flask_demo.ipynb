{
 "cells": [
  {
   "cell_type": "code",
   "execution_count": null,
   "metadata": {
    "scrolled": false
   },
   "outputs": [
    {
     "name": "stderr",
     "output_type": "stream",
     "text": [
      " * Running on http://localhost:9010/ (Press CTRL+C to quit)\n",
      "127.0.0.1 - - [24/Feb/2020 09:54:59] \"GET / HTTP/1.1\" 200 -\n"
     ]
    }
   ],
   "source": [
    "from flask import Flask, render_template\n",
    "import pymysql.cursors \n",
    "import requests\n",
    "\n",
    "app = Flask(__name__)\n",
    "\n",
    "@app.route(\"/\")\n",
    "def home():\n",
    "    user = {\"name\":\"Anna\"}\n",
    "    headers = {\n",
    "        'Authorization': 'Bearer keysBAU1yAr5rXWpV',\n",
    "    }\n",
    "\n",
    "    params = (\n",
    "    ('view', 'Gallery'),\n",
    "    )\n",
    "\n",
    "    r = requests.get('https://api.airtable.com/v0/appKHkshZUfrRNMbm/Store?api_key=keysBAU1yAr5rXWpV&sortField=_createdTime&sortDirection=desc', headers=headers, params=params)\n",
    "    dict = r.json()\n",
    "    dataset = []\n",
    "    for i in dict['records']:\n",
    "         dict = i['fields']\n",
    "         dataset.append(dict)\n",
    "    #  {% for row in dataset  %}{{ row[\"name\"] }}{% endfor %}\n",
    "    return render_template('home.html',album_user=user, dataset=dataset)\n",
    "\n",
    "\n",
    "@app.route(\"/about\")\n",
    "def aboutus():\n",
    "    return render_template('about.html')\n",
    "\n",
    "if __name__ == '__main__':\n",
    "    from werkzeug.serving import run_simple\n",
    "    run_simple('localhost', 9010, app)\n",
    "# if __name__ == '__main__':\n",
    "   # app.run(debug = True)"
   ]
  },
  {
   "cell_type": "code",
   "execution_count": null,
   "metadata": {},
   "outputs": [],
   "source": []
  }
 ],
 "metadata": {
  "kernelspec": {
   "display_name": "Python 3",
   "language": "python",
   "name": "python3"
  },
  "language_info": {
   "codemirror_mode": {
    "name": "ipython",
    "version": 3
   },
   "file_extension": ".py",
   "mimetype": "text/x-python",
   "name": "python",
   "nbconvert_exporter": "python",
   "pygments_lexer": "ipython3",
   "version": "3.7.4"
  }
 },
 "nbformat": 4,
 "nbformat_minor": 2
}
