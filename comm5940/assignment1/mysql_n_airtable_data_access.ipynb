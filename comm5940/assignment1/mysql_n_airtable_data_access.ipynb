{
 "cells": [
  {
   "cell_type": "markdown",
   "metadata": {},
   "source": [
    "<h1>MySQL and Airtable Data Access</h1>"
   ]
  },
  {
   "cell_type": "markdown",
   "metadata": {},
   "source": [
    "import pymysql.cursors\n",
    "connection = pymysql.connect(host=\"localhost\", \n",
    "                     user=\"root\",   \n",
    "                     passwd=\"root\", \n",
    "                     db=\"southwind\",   \n",
    "                     charset='utf8mb4',\n",
    "                     cursorclass=pymysql.cursors.DictCursor)"
   ]
  },
  {
   "cell_type": "code",
   "execution_count": 7,
   "metadata": {},
   "outputs": [
    {
     "name": "stdout",
     "output_type": "stream",
     "text": [
      "Requirement already satisfied: PyMySQL in d:\\anaconda\\lib\\site-packages (0.9.3)\n"
     ]
    }
   ],
   "source": [
    "!pip install PyMySQL"
   ]
  },
  {
   "cell_type": "code",
   "execution_count": 3,
   "metadata": {},
   "outputs": [],
   "source": [
    "import pymysql.cursors\n",
    "connection = pymysql.connect(host=\"localhost\", \n",
    "                             user=\"root\",\n",
    "                             passwd=\"1155136999\",\n",
    "                             db=\"finaldata\",\n",
    "                             charset=\"utf8mb4\",\n",
    "                             cursorclass=pymysql.cursors.DictCursor)"
   ]
  },
  {
   "cell_type": "code",
   "execution_count": 4,
   "metadata": {},
   "outputs": [
    {
     "name": "stdout",
     "output_type": "stream",
     "text": [
      "\n",
      "\n",
      "[{'\\ufeffName': 'DFS', 'Place': 'Chinachem Plaza, 77 Mody Road, Tsim Sha Tsui, Kowloon, Yau Tsim Mong District, Hong Kong Special Administrative Region', 'Tel': '00852-23113813', 'Cheapness': 2, 'Richness': 4, 'Review': 3}, {'\\ufeffName': 'Lane Crawford', 'Place': '3 Canton Road, Tsim Sha Tsui, Kowloon, Yau Tsim Mong District, Hong Kong Special Administrative Region', 'Tel': '00852-21182288', 'Cheapness': 2, 'Richness': 2, 'Review': 4}, {'\\ufeffName': 'Sasa', 'Place': '3 / F, Sheung Shui Sheung Shui Plaza, North District, Hong Kong Special Administrative Region', 'Tel': '00852-26719355', 'Cheapness': 4, 'Richness': 3, 'Review': 4}, {'\\ufeffName': 'Bonjour', 'Place': 'G / F, 25,27 Quick Street, Mong Kok, and 154,156 Sai Yeung Choi Street South, Yau Tsim Mong District, Hong Kong Special Administrative Region', 'Tel': '00852-25760198', 'Cheapness': 3, 'Richness': 4, 'Review': 3}, {'\\ufeffName': 'Mannings', 'Place': 'Shops 4-5 and 11 on the ground floor of Nandu Building, 168-178 Tai Po Road, Shek Kip Mei, Sham Shui Po District, Hong Kong Special Administrative Region', 'Tel': '00852-22993381', 'Cheapness': 3, 'Richness': 4, 'Review': 4}, {'\\ufeffName': ' Watsons', 'Place': '\\nShop 569-573, 2 / F, Tai Po Super City, 9 On Pong Road, Tai Po District, Hong Kong Special Administrative Region', 'Tel': '00852-26088383', 'Cheapness': 3, 'Richness': 4, 'Review': 3}, {'\\ufeffName': 'Aster', 'Place': 'F19 Wong Tai Sin Centre, Wong Tai Sin District, Hong Kong Special Administrative Region', 'Tel': '00852-23261662', 'Cheapness': 5, 'Richness': 3, 'Review': 4}]\n",
      "\n",
      "\n"
     ]
    }
   ],
   "source": [
    "with connection.cursor() as cursor:\n",
    "        sql = \"SELECT * FROM finaldata\"\n",
    "        cursor.execute(sql)\n",
    "        result = cursor.fetchall()\n",
    "        dataset = []\n",
    "        temp = {}\n",
    "        i = 0\n",
    "        for row in result:\n",
    "            temp[i] = row\n",
    "            dataset.append(temp[i])\n",
    "            i = i + 1\n",
    "        print('\\n')\n",
    "        print(dataset)\n",
    "        print('\\n')"
   ]
  },
  {
   "cell_type": "code",
   "execution_count": 10,
   "metadata": {},
   "outputs": [
    {
     "name": "stdout",
     "output_type": "stream",
     "text": [
      "Requirement already satisfied: requests in d:\\anaconda\\lib\\site-packages (2.22.0)\n",
      "Requirement already satisfied: idna<2.9,>=2.5 in d:\\anaconda\\lib\\site-packages (from requests) (2.8)\n",
      "Requirement already satisfied: certifi>=2017.4.17 in d:\\anaconda\\lib\\site-packages (from requests) (2019.9.11)\n",
      "Requirement already satisfied: chardet<3.1.0,>=3.0.2 in d:\\anaconda\\lib\\site-packages (from requests) (3.0.4)\n",
      "Requirement already satisfied: urllib3!=1.25.0,!=1.25.1,<1.26,>=1.21.1 in d:\\anaconda\\lib\\site-packages (from requests) (1.24.2)\n"
     ]
    }
   ],
   "source": [
    "!pip install requests"
   ]
  },
  {
   "cell_type": "code",
   "execution_count": 1,
   "metadata": {},
   "outputs": [
    {
     "name": "stdout",
     "output_type": "stream",
     "text": [
      "[{'Review': 4, 'Place': 'F19 Wong Tai Sin Centre, Wong Tai Sin District, Hong Kong Special Administrative Region', 'Name': 'Aster', 'Pic': [{'id': 'att4tuR2tw1g75kMz', 'url': 'https://dl.airtable.com/.attachments/29648456397df23ee6b62559c0e4e067/f9374677/images', 'filename': 'images', 'size': 9361, 'type': 'image/jpeg', 'thumbnails': {'small': {'url': 'https://dl.airtable.com/.attachmentThumbnails/25279e48414cfb14f3c7fcf7d974bcc6/75cbda67', 'width': 54, 'height': 36}, 'large': {'url': 'https://dl.airtable.com/.attachmentThumbnails/1cceaf4e73c5307658192c7f56f3b403/a3b9d201', 'width': 275, 'height': 183}, 'full': {'url': 'https://dl.airtable.com/.attachmentThumbnails/53ed37771534ae55d04ccf2624db6763/4fb93305', 'width': 3000, 'height': 3000}}}], 'Cheapness': 5, 'Tel': '00852-23261662', 'Richness': 3, 'url': 'https://dl.airtable.com/.attachmentThumbnails/53ed37771534ae55d04ccf2624db6763/4fb93305'}, {'Review': 3, 'Place': 'Shop 569-573, 2 / F, Tai Po Super City, 9 On Pong Road, Tai Po District, Hong Kong Special Administrative Region', 'Name': ' Watsons', 'Pic': [{'id': 'attR9xt1jALm9BO1m', 'url': 'https://dl.airtable.com/.attachments/65d7a36cb06fe0514495fa12a3754ae0/d7e7c1e3/20042017digital1.jpg', 'filename': '20042017digital1.jpg', 'size': 92766, 'type': 'image/jpeg', 'thumbnails': {'small': {'url': 'https://dl.airtable.com/.attachmentThumbnails/80717771bb079310027c51511f421779/2c8a68d4', 'width': 48, 'height': 36}, 'large': {'url': 'https://dl.airtable.com/.attachmentThumbnails/7e8a6f066097c66697aeb131e04fa450/ae4602e2', 'width': 600, 'height': 449}, 'full': {'url': 'https://dl.airtable.com/.attachmentThumbnails/325988d6f10008fdef98cbd3843b20a4/d9075d8a', 'width': 3000, 'height': 3000}}}], 'Cheapness': 3, 'Tel': '00852-26088383', 'Richness': 4, 'url': 'https://dl.airtable.com/.attachmentThumbnails/325988d6f10008fdef98cbd3843b20a4/d9075d8a'}, {'Review': 4, 'Place': 'Shops 4-5 and 11 on the ground floor of Nandu Building, 168-178 Tai Po Road, Shek Kip Mei, Sham Shui Po District, Hong Kong Special Administrative Region', 'Name': 'Mannings', 'Pic': [{'id': 'att6chAlz8h6eoIrI', 'url': 'https://dl.airtable.com/.attachments/baa58827cc182149e5f6c52f550ef9d3/b3e91dc8/DSC_2127.jpg', 'filename': 'DSC_2127.jpg', 'size': 177123, 'type': 'image/jpeg', 'thumbnails': {'small': {'url': 'https://dl.airtable.com/.attachmentThumbnails/d1b612e9869b0437ae672d2bfc8873e7/b273daad', 'width': 54, 'height': 36}, 'large': {'url': 'https://dl.airtable.com/.attachmentThumbnails/03807434d287278b50d0828c2853c411/dad5118a', 'width': 770, 'height': 512}, 'full': {'url': 'https://dl.airtable.com/.attachmentThumbnails/33df4cc3b6cefe0b38973f4867078e6c/d3161db3', 'width': 3000, 'height': 3000}}}], 'Cheapness': 3, 'Tel': '00852-22993381', 'Richness': 4, 'url': 'https://dl.airtable.com/.attachmentThumbnails/33df4cc3b6cefe0b38973f4867078e6c/d3161db3'}, {'Review': 3, 'Place': 'G / F, 25,27 Quick Street, Mong Kok, and 154,156 Sai Yeung Choi Street South, Yau Tsim Mong District, Hong Kong Special Administrative Region', 'Name': 'Bonjour', 'Pic': [{'id': 'attTiPCBSw4Wdx1vh', 'url': 'https://dl.airtable.com/.attachments/7eb67f568339bed3c9911b2795daf390/60a210ca/330px-S006.jpg', 'filename': '330px-S006.jpg', 'size': 30156, 'type': 'image/jpeg', 'thumbnails': {'small': {'url': 'https://dl.airtable.com/.attachmentThumbnails/561284e4924085cacd73cc092d09567f/b59102bf', 'width': 54, 'height': 36}, 'large': {'url': 'https://dl.airtable.com/.attachmentThumbnails/c4f595d7f0bec95ca91308e6a0161785/34eb4705', 'width': 330, 'height': 220}, 'full': {'url': 'https://dl.airtable.com/.attachmentThumbnails/614518c7024e3316aed77cfa1e22bc01/f68cba44', 'width': 3000, 'height': 3000}}}], 'Cheapness': 3, 'Tel': '00852-25760198', 'Richness': 4, 'url': 'https://dl.airtable.com/.attachmentThumbnails/614518c7024e3316aed77cfa1e22bc01/f68cba44'}, {'Review': 4, 'Place': '3 Canton Road, Tsim Sha Tsui, Kowloon, Yau Tsim Mong District, Hong Kong Special Administrative Region', 'Name': 'Lane Crawford', 'Pic': [{'id': 'att9fwrwt4AOiAs61', 'url': 'https://dl.airtable.com/.attachments/6baabdc51d7dd190feacfdea0f0fb8b3/78f38c01/1280px-Lane_Crawford_Pacific_Place.jpg', 'filename': '1280px-Lane_Crawford_Pacific_Place.jpg', 'size': 187306, 'type': 'image/jpeg', 'thumbnails': {'small': {'url': 'https://dl.airtable.com/.attachmentThumbnails/5080d01b6b5524572442f91e1be52f58/89faa9ae', 'width': 48, 'height': 36}, 'large': {'url': 'https://dl.airtable.com/.attachmentThumbnails/3fb42d7dfed30bd89449622920ec729d/74197255', 'width': 683, 'height': 512}, 'full': {'url': 'https://dl.airtable.com/.attachmentThumbnails/05e0eeb255da0a7ce26a242429136282/bf86682c', 'width': 3000, 'height': 3000}}}], 'Cheapness': 2, 'Tel': '00852-21182288', 'Richness': 2, 'url': 'https://dl.airtable.com/.attachmentThumbnails/9e02bdbcc1c0bf9276f17cf5e4e2d3b1/9af17848'}, {'Review': 4, 'Place': '3 / F, Sheung Shui Sheung Shui Plaza, North District, Hong Kong Special Administrative Region', 'Name': 'Sasa', 'Pic': [{'id': 'attkqnmaaTBanEpib', 'url': 'https://dl.airtable.com/.attachments/f3f1d4172bcac73130c13dd18ddf13ad/22c443e6/330px-HK_Chai_Wan_New_Jade_Gardens_Shopping_Arcade_shop_SASA_Sept-2012.JPG', 'filename': '330px-HK_Chai_Wan_New_Jade_Gardens_Shopping_Arcade_shop_SASA_Sept-2012.JPG', 'size': 21127, 'type': 'image/jpeg', 'thumbnails': {'small': {'url': 'https://dl.airtable.com/.attachmentThumbnails/445e3ac464bdf35fd22036f9c7a26b23/4b05b2e5', 'width': 48, 'height': 36}, 'large': {'url': 'https://dl.airtable.com/.attachmentThumbnails/0a3c31166e86b977ce33737b28dad92c/48c7853f', 'width': 330, 'height': 248}, 'full': {'url': 'https://dl.airtable.com/.attachmentThumbnails/9e02bdbcc1c0bf9276f17cf5e4e2d3b1/9af17848', 'width': 3000, 'height': 3000}}}], 'Cheapness': 4, 'Tel': '00852-26719355', 'Richness': 3, 'url': 'https://dl.airtable.com/.attachmentThumbnails/2f7d44dc8a249991cb7ee16a5a88a7ac/0eb633e3'}, {'Review': 3, 'Place': 'Chinachem Plaza, 77 Mody Road, Tsim Sha Tsui, Kowloon, Yau Tsim Mong District, Hong Kong Special Administrative Region', 'Name': 'DFS', 'Pic': [{'id': 'attAzDPX6cmshs5JP', 'url': 'https://dl.airtable.com/.attachments/4dae9bd53f4508b43000682b7c3b1b51/750e05b7/DSC7314crop-984x562-Desk.jpg', 'filename': 'DSC7314crop-984x562-Desk.jpg', 'size': 140129, 'type': 'image/jpeg', 'thumbnails': {'small': {'url': 'https://dl.airtable.com/.attachmentThumbnails/6ff52ad024e01fd918928ff60e544baf/f0e545d1', 'width': 63, 'height': 36}, 'large': {'url': 'https://dl.airtable.com/.attachmentThumbnails/c9c31343282797551b22fcb19150dc0b/a7c2b47c', 'width': 896, 'height': 512}, 'full': {'url': 'https://dl.airtable.com/.attachmentThumbnails/2f7d44dc8a249991cb7ee16a5a88a7ac/0eb633e3', 'width': 3000, 'height': 3000}}}], 'Cheapness': 2, 'Tel': '00852-23113813', 'Richness': 4, 'url': 'https://dl.airtable.com/.attachmentThumbnails/05e0eeb255da0a7ce26a242429136282/bf86682c'}]\n"
     ]
    }
   ],
   "source": [
    "import requests\n",
    "\n",
    "headers = {\n",
    "'Authorization': 'Bearer keysBAU1yAr5rXWpV',\n",
    "}\n",
    "\n",
    "params = (\n",
    "('view', 'Gallery'),\n",
    ")\n",
    "\n",
    "r = requests.get('https://api.airtable.com/v0/appKHkshZUfrRNMbm/Store?api_key=keysBAU1yAr5rXWpV&sortField=_createdTime&sortDirection=desc', headers=headers, params=params)\n",
    "dict = r.json()\n",
    "dataset = []\n",
    "for i in dict['records']:\n",
    "     dict = i['fields']\n",
    "     dataset.append(dict)\n",
    "print(dataset)"
   ]
  },
  {
   "cell_type": "code",
   "execution_count": null,
   "metadata": {},
   "outputs": [],
   "source": []
  }
 ],
 "metadata": {
  "kernelspec": {
   "display_name": "Python 3",
   "language": "python",
   "name": "python3"
  },
  "language_info": {
   "codemirror_mode": {
    "name": "ipython",
    "version": 3
   },
   "file_extension": ".py",
   "mimetype": "text/x-python",
   "name": "python",
   "nbconvert_exporter": "python",
   "pygments_lexer": "ipython3",
   "version": "3.7.4"
  }
 },
 "nbformat": 4,
 "nbformat_minor": 2
}
